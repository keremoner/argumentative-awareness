{
 "cells": [
  {
   "cell_type": "markdown",
   "id": "c70903c7",
   "metadata": {},
   "source": [
    "# Setup\n",
    "State space: integers from 0 to 20 sampled uniformly\n",
    "\n",
    "Utterance space: all possible closed integer intervals within the state space that have a minimum range of 3 and maximum range of 5:\n",
    "\n",
    "\\begin{align*}\n",
    "\\mathcal{S} &= \\{0, 1, \\dots, 20\\} \\\\\n",
    "\\mathcal{U} &= \\{[0, 2], [0, 3], [0, 4], \\dots, [16, 20], [17, 20], [18, 20] \\}\n",
    "\\end{align*}\n",
    "\n",
    "# Literal Listener\n",
    "$$L_0(s \\mid u) \\propto [[u]](s) P(s) $$\n",
    "\n",
    "\\begin{align*}\n",
    "    [[u]](s) &=\n",
    "    \\left\\{\n",
    "    \\begin{aligned}\n",
    "        1 &\\quad \\text{if } a \\leq s \\leq b \\\\\n",
    "        0 &\\quad \\text{else}\n",
    "    \\end{aligned} \\quad \\text{where } u=[a,b]\n",
    "    \\right. \\\\\n",
    "\\end{align*}\n",
    "\n",
    "# Pragmatic Speaker 1\n",
    "\n",
    "We have $\\alpha$ the rationality parameter, $\\psi$ the speaker type (inf, pers+, pers-), and $\\beta$ that switches between inf and pers (+ or -) (they do not use intermediate $\\beta$ values in the RSA opinion dynamics paper)\n",
    "\n",
    "Persuasive strength does not depend on the state, and it gives more weight to utterances that have high or low expected value (relative to the literal listener) depending on pers+ or pers-. \n",
    "\n",
    "I assign 0 probability for utterances with 0 informativity, so truth condition is satisfied for both values of $\\beta$.\n",
    "\n",
    "\\begin{align*}\n",
    "    S_1(u | s, \\psi) &\\propto \\text{Inf}_{S_1}(u ; s)^{\\alpha\\beta} \\cdot \\text{PersStr}_{S_1}(u; \\psi) ^{\\alpha(1 - \\beta)} \\\\\n",
    "    \\text{Inf}_{S_1}(u ; s) &= L_0(s | u) \\\\\n",
    "    \\text{PersStr}_{S_1}(u ; \\psi) &=\n",
    "    \\left\\{\n",
    "    \\begin{aligned}\n",
    "        \\frac{E_{L_0}[s | u] - \\text{min}(S)}{\\text{max}(S) - \\text{min}(S)} &\\quad \\text{if } \\psi = \\text{pers}^+ \\\\\n",
    "        \\frac{\\text{max}(S) - E_{L_0}[s | u]}{\\text{max}(S) - \\text{min}(S)} &\\quad \\text{if } \\psi = \\text{pers}^-\\\\\n",
    "        1 &\\quad \\text{if } \\psi = \\text{inf}\n",
    "    \\end{aligned}\n",
    "    \\right. \\\\\n",
    "    \\beta &=\n",
    "    \\left\\{\n",
    "    \\begin{aligned}\n",
    "        1 &\\quad \\text{if } \\psi = \\text{inf} \\\\\n",
    "        0 &\\quad \\text{otherwise}\n",
    "    \\end{aligned}\n",
    "    \\right. \\\\\n",
    "\\end{align*}"
   ]
  },
  {
   "cell_type": "markdown",
   "id": "520163fa",
   "metadata": {},
   "source": []
  }
 ],
 "metadata": {
  "language_info": {
   "name": "python"
  }
 },
 "nbformat": 4,
 "nbformat_minor": 5
}
